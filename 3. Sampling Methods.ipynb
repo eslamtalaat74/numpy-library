{
 "cells": [
  {
   "cell_type": "code",
   "execution_count": 2,
   "metadata": {
    "ExecuteTime": {
     "end_time": "2021-05-09T23:24:49.804746Z",
     "start_time": "2021-05-09T23:24:49.800756Z"
    }
   },
   "outputs": [],
   "source": [
    "import numpy as np"
   ]
  },
  {
   "cell_type": "markdown",
   "metadata": {},
   "source": [
    "### set seed"
   ]
  },
  {
   "cell_type": "code",
   "execution_count": 3,
   "metadata": {
    "ExecuteTime": {
     "end_time": "2021-05-09T23:24:50.175924Z",
     "start_time": "2021-05-09T23:24:50.168941Z"
    }
   },
   "outputs": [],
   "source": [
    "np.random.seed(123)"
   ]
  },
  {
   "cell_type": "markdown",
   "metadata": {},
   "source": [
    "### set random state which is independent from the global seed"
   ]
  },
  {
   "cell_type": "code",
   "execution_count": 3,
   "metadata": {
    "ExecuteTime": {
     "end_time": "2021-05-09T23:25:00.088665Z",
     "start_time": "2021-05-09T23:25:00.075699Z"
    }
   },
   "outputs": [
    {
     "data": {
      "text/plain": [
       "array([0.88594794, 0.07791236, 0.97964616, 0.24767146, 0.75288472,\n",
       "       0.52667564, 0.90755375, 0.8840703 , 0.08926896, 0.5173446 ])"
      ]
     },
     "execution_count": 3,
     "metadata": {},
     "output_type": "execute_result"
    }
   ],
   "source": [
    "rs = np.random.RandomState(321)\n",
    "rs.rand(10)"
   ]
  },
  {
   "cell_type": "markdown",
   "metadata": {},
   "source": [
    "### generate a random sample from interval [0, 1) in a given shape"
   ]
  },
  {
   "cell_type": "code",
   "execution_count": 4,
   "metadata": {
    "ExecuteTime": {
     "end_time": "2021-05-09T23:25:04.988908Z",
     "start_time": "2021-05-09T23:25:04.978963Z"
    }
   },
   "outputs": [
    {
     "name": "stdout",
     "output_type": "stream",
     "text": [
      "0.6964691855978616\n"
     ]
    }
   ],
   "source": [
    "# generate a random scalar\n",
    "print(np.random.rand())      "
   ]
  },
  {
   "cell_type": "code",
   "execution_count": 5,
   "metadata": {
    "ExecuteTime": {
     "end_time": "2021-05-09T23:25:07.209797Z",
     "start_time": "2021-05-09T23:25:07.195835Z"
    }
   },
   "outputs": [
    {
     "name": "stdout",
     "output_type": "stream",
     "text": [
      "[0.28613933 0.22685145 0.55131477]\n"
     ]
    }
   ],
   "source": [
    "# generate a 1-D array\n",
    "print(np.random.rand(3))           "
   ]
  },
  {
   "cell_type": "code",
   "execution_count": 6,
   "metadata": {
    "ExecuteTime": {
     "end_time": "2021-05-09T23:25:09.578290Z",
     "start_time": "2021-05-09T23:25:09.566323Z"
    }
   },
   "outputs": [
    {
     "name": "stdout",
     "output_type": "stream",
     "text": [
      "[[0.71946897 0.42310646 0.9807642 ]\n",
      " [0.68482974 0.4809319  0.39211752]\n",
      " [0.34317802 0.72904971 0.43857224]]\n"
     ]
    }
   ],
   "source": [
    "# generate a 2-D array\n",
    "print(np.random.rand(3,3))          "
   ]
  },
  {
   "cell_type": "markdown",
   "metadata": {},
   "source": [
    "### generate a sample from the standard normal distribution (mean = 0, var = 1)"
   ]
  },
  {
   "cell_type": "code",
   "execution_count": 7,
   "metadata": {
    "ExecuteTime": {
     "end_time": "2021-05-09T23:25:16.539636Z",
     "start_time": "2021-05-09T23:25:16.525669Z"
    }
   },
   "outputs": [
    {
     "name": "stdout",
     "output_type": "stream",
     "text": [
      "[[-0.14337247 -0.6191909  -0.76943347]\n",
      " [ 0.57674602  0.12652592 -1.30148897]\n",
      " [ 2.20742744  0.52274247  0.46564476]]\n"
     ]
    }
   ],
   "source": [
    "print(np.random.randn(3,3))"
   ]
  },
  {
   "cell_type": "markdown",
   "metadata": {},
   "source": [
    "### generate an array of random integers in a given interval [low, high)"
   ]
  },
  {
   "cell_type": "code",
   "execution_count": 10,
   "metadata": {},
   "outputs": [
    {
     "name": "stdout",
     "output_type": "stream",
     "text": [
      "[2 4 8 0 7]\n"
     ]
    }
   ],
   "source": [
    "# np.ranodm.randint(low, high, size, dtype)\n",
    "print(np.random.randint(0, 10, 5, 'i8'))"
   ]
  },
  {
   "cell_type": "markdown",
   "metadata": {},
   "source": [
    "### generate an array of random floating-point numbers in the interval [0.0, 1.0)"
   ]
  },
  {
   "cell_type": "code",
   "execution_count": 18,
   "metadata": {},
   "outputs": [
    {
     "name": "stdout",
     "output_type": "stream",
     "text": [
      "[0.11139217 0.66487245 0.88785679]\n",
      "[0.69631127 0.44032788 0.43821438]\n",
      "[0.7650961  0.565642   0.08490416]\n",
      "[0.58267109 0.8148437  0.33706638]\n"
     ]
    }
   ],
   "source": [
    "# the following methods are the same as np.random.rand()\n",
    "print(np.random.random_sample(3))\n",
    "print(np.random.random(3))\n",
    "print(np.random.ranf(3))\n",
    "print(np.random.sample(3))"
   ]
  },
  {
   "cell_type": "markdown",
   "metadata": {},
   "source": [
    "### generate a random sample from a given 1-D array"
   ]
  },
  {
   "cell_type": "code",
   "execution_count": 24,
   "metadata": {},
   "outputs": [
    {
     "name": "stdout",
     "output_type": "stream",
     "text": [
      "[1 2 1 1 1 1 1 0 1 0]\n"
     ]
    }
   ],
   "source": [
    "# np.random.choice(iterable_or_int, size, replace=True, p=weights)\n",
    "print(np.random.choice(range(3), 10, replace=True, p=[0.1, 0.8, 0.1]))"
   ]
  },
  {
   "cell_type": "code",
   "execution_count": 30,
   "metadata": {},
   "outputs": [
    {
     "name": "stdout",
     "output_type": "stream",
     "text": [
      "[1 5 5 6 2 5 1 5 0 6]\n"
     ]
    }
   ],
   "source": [
    "print(np.random.choice(7, 10))"
   ]
  },
  {
   "cell_type": "code",
   "execution_count": 12,
   "metadata": {},
   "outputs": [
    {
     "name": "stdout",
     "output_type": "stream",
     "text": [
      "[2 2 1 3 2 3 1 2 1 3]\n"
     ]
    }
   ],
   "source": [
    "print(np.random.choice([1,2,3], 10))"
   ]
  },
  {
   "cell_type": "markdown",
   "metadata": {},
   "source": [
    "### shuffle an array in place"
   ]
  },
  {
   "cell_type": "code",
   "execution_count": 32,
   "metadata": {},
   "outputs": [
    {
     "name": "stdout",
     "output_type": "stream",
     "text": [
      "[0 1 2 3 4 5 6 7 8 9]\n"
     ]
    }
   ],
   "source": [
    "arr = np.array(range(10))\n",
    "print(arr)"
   ]
  },
  {
   "cell_type": "code",
   "execution_count": 35,
   "metadata": {},
   "outputs": [
    {
     "name": "stdout",
     "output_type": "stream",
     "text": [
      "[6 7 4 1 0 3 2 9 8 5]\n"
     ]
    }
   ],
   "source": [
    "np.random.shuffle(arr)\n",
    "print(arr)"
   ]
  },
  {
   "cell_type": "markdown",
   "metadata": {},
   "source": [
    "### generate a permutation of an array"
   ]
  },
  {
   "cell_type": "code",
   "execution_count": 36,
   "metadata": {},
   "outputs": [
    {
     "name": "stdout",
     "output_type": "stream",
     "text": [
      "The initial array:  [0 1 2 3 4 5 6 7 8 9]\n",
      "A permutation of the array:  [4 2 5 8 3 0 9 6 1 7]\n"
     ]
    }
   ],
   "source": [
    "# similar to np.random.shuffle(), but it returns a copy rather than making changes in place\n",
    "arr = np.array(range(10))\n",
    "print('The initial array: ', arr)\n",
    "print('A permutation of the array: ', np.random.permutation(arr))"
   ]
  },
  {
   "cell_type": "code",
   "execution_count": null,
   "metadata": {},
   "outputs": [],
   "source": []
  }
 ],
 "metadata": {
  "kernelspec": {
   "display_name": "Python 3",
   "language": "python",
   "name": "python3"
  },
  "language_info": {
   "codemirror_mode": {
    "name": "ipython",
    "version": 3
   },
   "file_extension": ".py",
   "mimetype": "text/x-python",
   "name": "python",
   "nbconvert_exporter": "python",
   "pygments_lexer": "ipython3",
   "version": "3.8.5"
  },
  "toc": {
   "base_numbering": 1,
   "nav_menu": {},
   "number_sections": true,
   "sideBar": true,
   "skip_h1_title": false,
   "title_cell": "Table of Contents",
   "title_sidebar": "Contents",
   "toc_cell": false,
   "toc_position": {},
   "toc_section_display": true,
   "toc_window_display": false
  },
  "varInspector": {
   "cols": {
    "lenName": 16,
    "lenType": 16,
    "lenVar": 40
   },
   "kernels_config": {
    "python": {
     "delete_cmd_postfix": "",
     "delete_cmd_prefix": "del ",
     "library": "var_list.py",
     "varRefreshCmd": "print(var_dic_list())"
    },
    "r": {
     "delete_cmd_postfix": ") ",
     "delete_cmd_prefix": "rm(",
     "library": "var_list.r",
     "varRefreshCmd": "cat(var_dic_list()) "
    }
   },
   "types_to_exclude": [
    "module",
    "function",
    "builtin_function_or_method",
    "instance",
    "_Feature"
   ],
   "window_display": false
  }
 },
 "nbformat": 4,
 "nbformat_minor": 2
}
